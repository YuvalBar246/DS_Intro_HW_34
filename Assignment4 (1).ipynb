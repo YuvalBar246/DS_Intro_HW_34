{
 "cells": [
  {
   "cell_type": "markdown",
   "id": "bc0c38e6",
   "metadata": {},
   "source": [
    "# Task Number 4"
   ]
  },
  {
   "cell_type": "markdown",
   "id": "7a4a74fa",
   "metadata": {},
   "source": [
    "## Yuval Bar - 206011355"
   ]
  },
  {
   "cell_type": "markdown",
   "id": "c1514a7f",
   "metadata": {},
   "source": [
    "### Import data and create the dict required by using google api"
   ]
  },
  {
   "cell_type": "code",
   "execution_count": 139,
   "id": "59079bf0",
   "metadata": {},
   "outputs": [],
   "source": [
    "import requests\n",
    "data = open(\"dests.txt\")\n",
    "dest_dict = {}\n",
    "api_key = 'write your api_key'\n",
    "try:\n",
    "    for line in data:\n",
    "        address = line.rstrip('\\n')\n",
    "        url_lat_long = 'https://maps.googleapis.com/maps/api/geocode/json?address=%s&key=%s' % (address,api_key)\n",
    "        try:\n",
    "            response = requests.get(url_lat_long)\n",
    "            if not response.status_code==200:\n",
    "                print(\"HTTP error\",response.status_code)\n",
    "            else:\n",
    "                try:\n",
    "                    response = requests.get(url_lat_long).json()\n",
    "                    lat = response['results'][0]['geometry']['location']['lat']\n",
    "                    lng = response['results'][0]['geometry']['location']['lng']\n",
    "                except:\n",
    "                    print(\"response not in valid JSON format\")\n",
    "        except:\n",
    "            print(\"Something went wrong with requests.get\")\n",
    "        origins = 'Jerusalem'\n",
    "        url_dist = 'https://maps.googleapis.com/maps/api/distancematrix/json?destinations=%s=&origins=%s&key=%s' % (address,origins,api_key)\n",
    "        try:\n",
    "            response1 = requests.get(url_dist)\n",
    "            if not response1.status_code==200:\n",
    "                print(\"HTTP error\",response1.status_code)\n",
    "            else:\n",
    "                try:\n",
    "                    response1 = requests.get(url_dist).json()\n",
    "                    distance = response1['rows'][0]['elements'][0]['distance']['text']\n",
    "                    time = response1['rows'][0]['elements'][0]['duration']['text']\n",
    "                except:\n",
    "                    print(\"response not in valid JSON format\")\n",
    "        except:\n",
    "            print(\"Something went wrong with requests.get\")\n",
    "        dest_dict[address] = (distance,time,lng,lat)\n",
    "except:\n",
    "    print(\"Something went wrong\")"
   ]
  },
  {
   "cell_type": "markdown",
   "id": "2cf3b9d6",
   "metadata": {},
   "source": [
    "### Print the dict"
   ]
  },
  {
   "cell_type": "code",
   "execution_count": 140,
   "id": "926ac369",
   "metadata": {},
   "outputs": [
    {
     "name": "stdout",
     "output_type": "stream",
     "text": [
      "Istanbul :  ('1,809 km', '20 hours 39 mins', 28.9783589, 41.0082376)\n",
      "Amsterdam :  ('4,528 km', '1 day 23 hours', 4.9041389, 52.3675734)\n",
      "Valletta :  ('3,783 km', '2 days 2 hours', 14.5145528, 35.8989085)\n",
      "Basel :  ('4,091 km', '1 day 20 hours', 7.5885761, 47.5595986)\n",
      "Doha :  ('2,105 km', '21 hours 58 mins', 51.53103979999999, 25.2854473)\n"
     ]
    }
   ],
   "source": [
    "for key, value in dest_dict.items():\n",
    "    print(key, ': ', value)"
   ]
  },
  {
   "cell_type": "markdown",
   "id": "186bbb95",
   "metadata": {},
   "source": [
    "### Top 3 Furthest Cities"
   ]
  },
  {
   "cell_type": "code",
   "execution_count": 141,
   "id": "10152343",
   "metadata": {},
   "outputs": [
    {
     "name": "stdout",
     "output_type": "stream",
     "text": [
      "The 3 furthest cities from Jerusalem are: Amsterdam, Basel, Valletta\n"
     ]
    }
   ],
   "source": [
    "dest_dict_sorted = sorted([(v,k) for k,v in dest_dict.items()], reverse = True)\n",
    "print(\"The 3 furthest cities from Jerusalem are: \" + dest_dict_sorted[0][1] + \", \" + dest_dict_sorted[1][1] + \", \" + dest_dict_sorted[2][1])"
   ]
  },
  {
   "cell_type": "code",
   "execution_count": null,
   "id": "aab7df40",
   "metadata": {},
   "outputs": [],
   "source": []
  }
 ],
 "metadata": {
  "kernelspec": {
   "display_name": "Python 3 (ipykernel)",
   "language": "python",
   "name": "python3"
  },
  "language_info": {
   "codemirror_mode": {
    "name": "ipython",
    "version": 3
   },
   "file_extension": ".py",
   "mimetype": "text/x-python",
   "name": "python",
   "nbconvert_exporter": "python",
   "pygments_lexer": "ipython3",
   "version": "3.9.7"
  }
 },
 "nbformat": 4,
 "nbformat_minor": 5
}
